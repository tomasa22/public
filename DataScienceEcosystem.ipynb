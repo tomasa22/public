{
 "cells": [
  {
   "cell_type": "markdown",
   "id": "1854c63b-fbe3-42f5-a010-4c2037093ca3",
   "metadata": {},
   "source": [
    "# Data Science Tools and Ecosystem"
   ]
  },
  {
   "cell_type": "markdown",
   "id": "6b131e8e-461d-477a-b19d-04ec9051c1df",
   "metadata": {},
   "source": [
    "In this notebook, Data Science and Ecosystem are summarized. "
   ]
  },
  {
   "cell_type": "markdown",
   "id": "d9e50c6f-5919-4ee4-8d5f-9a03ca5969f2",
   "metadata": {},
   "source": [
    "**Objectives:**\n",
    "- Popular languages for Data Science\n",
    "- Libreries for Data Science\n",
    "- Arithmetic expresion in Python"
   ]
  },
  {
   "cell_type": "markdown",
   "id": "9ed82fd9-4bb9-4fba-883d-66d1ff6e2fea",
   "metadata": {},
   "source": [
    "Some of the popular languages that Data Scientists use are:\n",
    "1. Python\n",
    "2. R\n",
    "3. SQL\n",
    "4. Julia "
   ]
  },
  {
   "cell_type": "markdown",
   "id": "b5a45a2b-32d7-4ac8-8556-086dff10385b",
   "metadata": {},
   "source": [
    "Some of the commonly used libreries used by Data Scientists are:\n",
    "1. Pandas\n",
    "2. NumPy\n",
    "3. Matplolib\n",
    "4. TensorFlow\n",
    "5. Scikit-learn"
   ]
  },
  {
   "cell_type": "markdown",
   "id": "5f5ac769-5419-46b2-81dd-53003a90ffb3",
   "metadata": {},
   "source": [
    "|Data Science Tools|\n",
    "|------------------|\n",
    "|Visual Studio Code|\n",
    "|Spyder|\n",
    "|R Studio|"
   ]
  },
  {
   "cell_type": "markdown",
   "id": "c619c89e-f358-4647-8fce-7cfbbb711808",
   "metadata": {},
   "source": [
    "### Below are a few examples of arithmetics expresion in Python "
   ]
  },
  {
   "cell_type": "code",
   "execution_count": 5,
   "id": "95444768-1e95-438b-b84d-ead743fcec12",
   "metadata": {},
   "outputs": [
    {
     "data": {
      "text/plain": [
       "17"
      ]
     },
     "execution_count": 5,
     "metadata": {},
     "output_type": "execute_result"
    }
   ],
   "source": [
    "# This a simple arithmetic expression to mutiply then add integers\n",
    "(3*4)+5"
   ]
  },
  {
   "cell_type": "code",
   "execution_count": 3,
   "id": "91131804-7dcb-44bc-b766-c7e15d5ea1e7",
   "metadata": {},
   "outputs": [
    {
     "data": {
      "text/plain": [
       "3.3333333333333335"
      ]
     },
     "execution_count": 3,
     "metadata": {},
     "output_type": "execute_result"
    }
   ],
   "source": [
    "200/60 #This will convert 200 minutes to hours by diving by 60"
   ]
  },
  {
   "cell_type": "markdown",
   "id": "0ac0fd4a-1b3f-4a4a-b064-cb72647f6b65",
   "metadata": {},
   "source": [
    "## Author\n",
    "Tomáš Kondela"
   ]
  }
 ],
 "metadata": {
  "kernelspec": {
   "display_name": "Python 3 (ipykernel)",
   "language": "python",
   "name": "python3"
  },
  "language_info": {
   "codemirror_mode": {
    "name": "ipython",
    "version": 3
   },
   "file_extension": ".py",
   "mimetype": "text/x-python",
   "name": "python",
   "nbconvert_exporter": "python",
   "pygments_lexer": "ipython3",
   "version": "3.11.5"
  }
 },
 "nbformat": 4,
 "nbformat_minor": 5
}
